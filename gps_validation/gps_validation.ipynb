{
 "cells": [
  {
   "cell_type": "markdown",
   "metadata": {},
   "source": [
    "# Thetis GPS Validation Notebook"
   ]
  },
  {
   "cell_type": "code",
   "execution_count": 72,
   "metadata": {},
   "outputs": [],
   "source": [
    "# Imports and constants\n",
    "from ctypes import sizeof\n",
    "from util import ThetisData\n",
    "import matplotlib.pyplot as plt\n",
    "import datetime as dt\n",
    "from math import pi\n",
    "import numpy as np\n",
    "from pyproj import Proj, Transformer\n",
    "import math"
   ]
  },
  {
   "cell_type": "markdown",
   "metadata": {},
   "source": [
    "## Read in Thetis Data"
   ]
  },
  {
   "cell_type": "code",
   "execution_count": 82,
   "metadata": {},
   "outputs": [
    {
     "name": "stdout",
     "output_type": "stream",
     "text": [
      "N samples:  53475\n",
      "[28.091703 28.091703 28.091703 ... 28.091426 28.091426 28.091426]\n",
      "[-80.566051 -80.56605  -80.56605  ... -80.566073 -80.566073 -80.566073]\n"
     ]
    }
   ],
   "source": [
    "i = 0\n",
    "with open('data/GPS_Test_Indialantic_10Hz.bin', 'rb') as file:\n",
    "    epoch_data = []\n",
    "    lat_data = []\n",
    "    lon_data = []\n",
    "    fix_data = []\n",
    "\n",
    "    data = ThetisData()\n",
    "    while file.readinto(data) == sizeof(data):\n",
    "        i = i+1\n",
    "        if (i % 9 != 0): # Only return every [Sample Rate/ GPS Refresh Rate] value\n",
    "            continue\n",
    "        timestamp = dt.datetime.utcfromtimestamp(data.epoch) + dt.timedelta(milliseconds=data.mSecond)\n",
    "        if (data.latitude==0 or data.longitude==0 or not data.GPSFix): # Remove zeros from the signal\n",
    "            continue\n",
    "        epoch_data.append(timestamp)\n",
    "        lat_data.append(data.latitude / 1E6)\n",
    "        lon_data.append(data.longitude / 1E6)\n",
    "        fix_data.append(data.GPSFix)\n",
    "\n",
    "    epoch_data = np.array(epoch_data)\n",
    "    lat_data = np.array(lat_data)\n",
    "    lon_data = np.array(lon_data)\n",
    "    fix_data = np.array(fix_data)\n",
    "\n",
    "    print(\"N samples: \", np.size(lat_data))\n",
    "    print(lat_data)\n",
    "    print(lon_data)\n"
   ]
  },
  {
   "cell_type": "markdown",
   "metadata": {},
   "source": [
    "## Calculate Delta X and Delta Y\n",
    "First, we convert the readings into UTM projection Northings and Eastings in meters, based on NAD 83(2011)"
   ]
  },
  {
   "cell_type": "code",
   "execution_count": 86,
   "metadata": {},
   "outputs": [
    {
     "name": "stdout",
     "output_type": "stream",
     "text": [
      "(542629.1363960243, 3107439.2615616606)\n",
      "(array([542631.01425141, 542631.11249215, 542631.11249215, ...,\n",
      "       542628.96238837, 542628.96238837, 542628.96238837]), array([3107436.87018406, 3107436.87053443, 3107436.87053443, ...,\n",
      "       3107406.17686439, 3107406.17686439, 3107406.17686439]))\n",
      "[ 1.87785538  1.97609612  1.97609612 ... -0.17400766 -0.17400766\n",
      " -0.17400766]\n",
      "[ -2.3913776   -2.39102723  -2.39102723 ... -33.08469727 -33.08469727\n",
      " -33.08469727]\n",
      "Sigma_x:  0.25837557404125167\n",
      "Sigma_y:  6.172041155771012\n",
      "CEP:  3.7939458705892357\n",
      "TDRMS:  0.3237583484850621\n"
     ]
    }
   ],
   "source": [
    "core = (28.091724647222, -80.56607002778)\n",
    "# xx, yy = Transformer.from_crs(\"EPSG:4269\", \"EPSG:4326\")\n",
    "# print(xx, yy)\n",
    "P = Proj(proj='utm', zone=17, ellps='WGS84', preserve_units=True)\n",
    "core_xx, core_yy = P(core[1], core[0])\n",
    "test_xx, test_yy = P(lon_data, lat_data)\n",
    "print((core_xx, core_yy))\n",
    "print((test_xx, test_yy))\n",
    "\n",
    "delta_x = test_xx - core_xx\n",
    "delta_y = test_yy - core_yy\n",
    "print(delta_x)\n",
    "print(delta_y)\n",
    "\n",
    "# Calculate standard deviation in X\n",
    "N_x = np.size(test_xx)\n",
    "mu_x = np.mean(test_xx)\n",
    "sigma_x = np.std(delta_x)\n",
    "print(\"Sigma_x: \", sigma_x)\n",
    "\n",
    "# Calculate standard deviation in Y\n",
    "N_y = np.size(test_yy)\n",
    "mu_y = np.mean(test_yy)\n",
    "sigma_y = np.std(delta_y)\n",
    "print(\"Sigma_y: \", sigma_y)\n",
    "\n",
    "# Calculate Circle of Error (50%) Radius\n",
    "CEP = 0.59 * (sigma_x + sigma_y)\n",
    "print(\"CEP: \", CEP)\n",
    "\n",
    "# Calculate 2DRMS (95%) radius\n",
    "TDRMS = 2 / math.sqrt(math.pow(sigma_x,2) + math.pow(sigma_y,2))\n",
    "print(\"TDRMS: \", TDRMS)"
   ]
  },
  {
   "cell_type": "markdown",
   "metadata": {},
   "source": [
    "## Plot data\n",
    "Plot the"
   ]
  },
  {
   "cell_type": "code",
   "execution_count": 80,
   "metadata": {},
   "outputs": [
    {
     "data": {
      "image/png": "[encoded data removed]",
      "text/plain": [
       "<Figure size 640x480 with 1 Axes>"
      ]
     },
     "metadata": {},
     "output_type": "display_data"
    }
   ],
   "source": [
    "circle_cep = plt.Circle((0,0), radius=CEP, fill=False, color='green')\n",
    "circle_tdrms = plt.Circle((0,0), radius=TDRMS, fill=False, color = 'red')\n",
    "\n",
    "fig = plt.figure()\n",
    "ax = fig.add_subplot(1,1,1)\n",
    "ax.plot(0, 0, 'o')\n",
    "ax.plot(delta_x, delta_y, 'o')\n",
    "ax.set_xlim(left=-max(delta_x), right=max(delta_x))\n",
    "ax.set_ylim(top=max(delta_y), bottom=-max(delta_y))\n",
    "ax.add_patch(circle_cep)\n",
    "ax.add_patch(circle_tdrms)\n",
    "ax.grid()\n",
    "ax.set_aspect('equal', adjustable='box')\n",
    "ax.axvline(0,color='black')\n",
    "ax.axhline(0,color='black')\n",
    "ax.set_title(\"GPS Measurements\")\n",
    "ax.set_xlabel(\"X Deviation (m)\")\n",
    "ax.set_ylabel(\"Y Deviation (m)\")\n",
    "ax.legend([\"Monument\", \"Readings\", \"50% of readings\", \"95% of readings\"])\n",
    "ax.annotate(f\"# of Samples: {N_x}\", (-max(test_xx), -max(test_yy)))\n",
    "plt.show()"
   ]
  }
 ],
 "metadata": {
  "kernelspec": {
   "display_name": "Python 3.10.5 64-bit",
   "language": "python",
   "name": "python3"
  },
  "language_info": {
   "codemirror_mode": {
    "name": "ipython",
    "version": 3
   },
   "file_extension": ".py",
   "mimetype": "text/x-python",
   "name": "python",
   "nbconvert_exporter": "python",
   "pygments_lexer": "ipython3",
   "version": "3.10.5"
  },
  "orig_nbformat": 4,
  "vscode": {
   "interpreter": {
    "hash": "369f2c481f4da34e4445cda3fffd2e751bd1c4d706f27375911949ba6bb62e1c"
   }
  }
 },
 "nbformat": 4,
 "nbformat_minor": 2
}
